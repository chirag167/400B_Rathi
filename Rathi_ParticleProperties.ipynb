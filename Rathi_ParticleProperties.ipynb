{
 "cells": [
  {
   "cell_type": "code",
   "execution_count": 4,
   "metadata": {},
   "outputs": [
    {
     "data": {
      "text/plain": [
       "(<Quantity 1000000. solMass>,\n",
       " <Quantity 4.245 kpc>,\n",
       " <Quantity 13845.338 lyr>,\n",
       " <Quantity 312.135 km / s>)"
      ]
     },
     "execution_count": 4,
     "metadata": {},
     "output_type": "execute_result"
    }
   ],
   "source": [
    "from Read import Read # from the Read module, I imported the Read function.\n",
    "import numpy as np \n",
    "from astropy import units as u\n",
    "import math\n",
    "\n",
    "def ParticleInfo(filename,particle,particle_num): # defining the ParticleInfo function with various parameters.\n",
    "    # particle = particle type (disk, halo etc.) and particle_num = particle index.\n",
    "    \n",
    "    time, particles,data = Read(filename) # calling the Read function.\n",
    "    index = np.where(data['type'] == particle) \n",
    "    #MASS:\n",
    "    # data['m'][index] = stores all the values of mass of a particular paticle type.\n",
    "    # data['m'][index][particle_num] = stores all the values of mass of a particular paticle type and a particular particle index.\n",
    "    mass = float(data['m'][index][particle_num]*1e10)*u.M_sun # in solar masses.\n",
    "    \n",
    "    #DISTANCE:\n",
    "    x = float(data['x'][index][particle_num]) \n",
    "    y = float(data['y'][index][particle_num]) \n",
    "    z = float(data['z'][index][particle_num]) \n",
    "    dist = np.around(math.sqrt(x*x+y*y+z*z),3)*u.kpc # Calculating the magnitude of distance in kpc and rounding it off to 3 decimal places.\n",
    "    dist_convert = np.around(dist.to(u.lyr),3) # Converting the kpc units to lyr using astropy units and rounding off to 3 decimal places.\n",
    "    \n",
    "    #VELOCITY:\n",
    "    vx = float(data['vx'][index][particle_num]) \n",
    "    vy = float(data['vy'][index][particle_num]) \n",
    "    vz = float(data['vz'][index][particle_num]) \n",
    "    v = np.around(math.sqrt(vx*vx+vy*vy+vz*vz),3)*u.km/u.second # Calculating the magnitude of velocity in km/s and rounding it off to 3 decimal places.\n",
    "    \n",
    "    return mass, dist, dist_convert, v # I want the function to return the mass distance and velocity, when executed.\n",
    "\n",
    "ParticleInfo(\"MW_000.txt\",2,99) # Calling the function to read \"MW_000.txt\" and extract information about the 100th disk particle.\n",
    "# Here particle = 2 and particle_num = 100 (extracts data about the 100th particle).\n",
    "\n",
    "\n",
    "    "
   ]
  },
  {
   "cell_type": "code",
   "execution_count": null,
   "metadata": {},
   "outputs": [],
   "source": []
  },
  {
   "cell_type": "code",
   "execution_count": null,
   "metadata": {},
   "outputs": [],
   "source": []
  }
 ],
 "metadata": {
  "kernelspec": {
   "display_name": "Python 3",
   "language": "python",
   "name": "python3"
  },
  "language_info": {
   "codemirror_mode": {
    "name": "ipython",
    "version": 3
   },
   "file_extension": ".py",
   "mimetype": "text/x-python",
   "name": "python",
   "nbconvert_exporter": "python",
   "pygments_lexer": "ipython3",
   "version": "3.7.3"
  }
 },
 "nbformat": 4,
 "nbformat_minor": 2
}

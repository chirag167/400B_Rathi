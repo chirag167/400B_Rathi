{
 "cells": [
  {
   "cell_type": "code",
   "execution_count": 1,
   "metadata": {},
   "outputs": [],
   "source": [
    "# Import Modules \n",
    "import numpy as np\n",
    "import matplotlib.pyplot as plt\n",
    "import matplotlib"
   ]
  },
  {
   "cell_type": "markdown",
   "metadata": {},
   "source": [
    "# Part A :  Mass to Light Ratios \n",
    "\n",
    "Wolf et al. 2010 \n",
    "\n",
    "$M(<R_{half}) = \\frac {4}{G}\\sigma^2 R_e$\n",
    "\n",
    "Where $R_{half}$ = 3D half mass radius \n",
    "and $R_e$ is the 2D half mass radius of stars (observed)\n",
    "\n",
    "Determine which of the following two systems are galaxies:\n",
    "\n",
    "The system 47 Tuc is observed with:  $\\sigma = 17.3$ km/s, $R_e = 0.5$ pc, $L_v \\sim 10^5 L_\\odot$ \n",
    "\n",
    "The system Willman I is observed with: $\\sigma = 4.3$ km/s, $R_e = 25$ pc, $L_v = 10^3 L_\\odot$"
   ]
  },
  {
   "cell_type": "code",
   "execution_count": 2,
   "metadata": {},
   "outputs": [],
   "source": [
    "G = 4.498768e-6 # units of kpc^3/Gyr^2/Msun"
   ]
  },
  {
   "cell_type": "code",
   "execution_count": 3,
   "metadata": {},
   "outputs": [],
   "source": [
    "# Function to compute the dynamical mass, given the observed size and velocity dispersion of a galaxy\n",
    "def WolfMass(sigma, Re):\n",
    "    \"\"\" Wolf mass estimator from Wolf+ 2010\n",
    "    Input sigma = 1D line of sight velocity dispersion in km/s\n",
    "           Re = 2D radius enclosing half the stellar mass in pc\n",
    "    Returns estimate of the dynamical mass within the half light radius in Msun\"\"\"\n",
    "    return 4/G*sigma**2*Re/1000"
   ]
  },
  {
   "cell_type": "code",
   "execution_count": 4,
   "metadata": {},
   "outputs": [
    {
     "name": "stdout",
     "output_type": "stream",
     "text": [
      "133054.205\n",
      "411001.412\n"
     ]
    }
   ],
   "source": [
    "Tuc_47 = WolfMass(17.3,0.5)\n",
    "William_1 = WolfMass(4.3,25)\n",
    "print(np.around(Tuc_47,3))\n",
    "print(np.around(William_1,3))"
   ]
  },
  {
   "cell_type": "markdown",
   "metadata": {},
   "source": [
    "# Part B :  Stellar to Halo Mass Relation\n",
    "\n",
    "Following the work of [Moster et al. 2013 (MNRAS, 428, 3121)](https://ui.adsabs.harvard.edu/abs/2013MNRAS.428.3121M/abstract)\n",
    "\n",
    "\n",
    "`Equation 2:`                  $ \\frac{m}{M} = 2N \\left [ \\left ( \\frac{M}{M_1} \\right)^{-\\beta} + \\left (\\frac{M}{M_1} \\right)^{\\gamma} \\right]$ \n",
    "\n",
    "$m$ = stellar mass, $M$ = halo mass\n",
    "\n",
    "`Equation 11:`        log $M_1(z) = M_{10} + M_{11} \\frac{z}{z+1} $ \n",
    "\n",
    "`Equation 12:`        $N(z) = N_{10} + N_{11} \\frac{z}{z+1} $\n",
    "\n",
    "`Equation 13:`         $\\beta(z) = \\beta_{10} + \\beta_{11} \\frac{z}{z+1} $\n",
    "\n",
    "`Equation 14:`         $\\gamma(z) = \\gamma_{10} + \\gamma_{11} \\frac{z}{z+1} $"
   ]
  },
  {
   "cell_type": "markdown",
   "metadata": {},
   "source": [
    "# Q1 \n",
    "\n",
    "Modify the class below by adding a function called `StellarMass` that uses the `SHMratio` function and returns the stellar mass."
   ]
  },
  {
   "cell_type": "code",
   "execution_count": 5,
   "metadata": {},
   "outputs": [],
   "source": [
    "class AbundanceMatching:\n",
    "    \n",
    "    def __init__(self, M, z):\n",
    "        \" input: Halo mass (Msun) and Redshift\"\n",
    "        \n",
    "        #initializing the parameters:\n",
    "        self.M = M # Halo Mass in Msun\n",
    "        self.z = z  # Redshift\n",
    "        \n",
    "        \n",
    "    def logM1(self):\n",
    "        \"\"\"eq. 11 of Moster 2013\n",
    "        input : redshift\n",
    "        output: M1, characteristic mass in log(Msun)\n",
    "        \"\"\"\n",
    "        M10      = 11.59\n",
    "        M11      = 1.195 \n",
    "        return M10 + M11*(self.z/(1+self.z))  \n",
    "    \n",
    "    \n",
    "    def N(self):\n",
    "        \"\"\"eq. 12 of Moster 2013\n",
    "        input: redshift\n",
    "        output: Normalization for eq. 2\n",
    "        \"\"\"\n",
    "        N10      = 0.0351\n",
    "        N11      = -0.0247\n",
    "    \n",
    "        return N10 + N11*(self.z/(1+self.z))\n",
    "    \n",
    "    \n",
    "    def Beta(self):\n",
    "        \"\"\"eq. 13 of Moster 2013\n",
    "        input: redshift\n",
    "        output: power of the low mass slope\"\"\"\n",
    "        beta10      = 1.376\n",
    "        beta11      = -0.826\n",
    "    \n",
    "        return beta10 + beta11*(self.z/(1+self.z))\n",
    "    \n",
    "    def Gamma(self):\n",
    "        \"\"\"eq. 14 of Moster 2013\n",
    "        input: redshift\n",
    "        output: power of the high mass slope \"\"\"\n",
    "        gamma10      = 0.608\n",
    "        gamma11      = 0.329\n",
    "    \n",
    "        return gamma10 + gamma11*(self.z/(1+self.z))\n",
    "    \n",
    "    \n",
    "    def SHMratio(self):\n",
    "        \"\"\" \n",
    "        eq. 2 of Moster + 2013\n",
    "        Inputs: halo mass M in solar masses (NOT in logspce)\n",
    "           redshift\n",
    "        Outputs: Stellar mass to halo mass ratio\n",
    "        \"\"\"\n",
    "        M1 = 10**self.logM1() # Converting characteristic mass to Msun from Log(Msun)\n",
    "        A = (self.M/M1)**(-self.Beta())  # Low mass end\n",
    "        B = (self.M/M1)**(self.Gamma())   # High mass end\n",
    "        Norm = 2*self.N() # Normalization\n",
    "    \n",
    "        SHMratio = Norm*(A+B)**(-1)\n",
    "    \n",
    "        return SHMratio\n",
    "    \n",
    "    \n",
    " # Q1: add a function to the class that takes the SHM ratio and returns \n",
    "# The stellar mass \n",
    "    def StellarMass(self):\n",
    "        \"\"\"Manipulating eq. 2 of Monster+2013, we can calculate m\n",
    "        Inputs: SHM ratio and halo mass (M)\n",
    "        Output: The stellar mass\"\"\"\n",
    "        \n",
    "        SM = self.M*self.SHMratio() # manipulated equation 2 to get Stellar Mass (SM)\n",
    "        \n",
    "        return SM\n"
   ]
  },
  {
   "cell_type": "markdown",
   "metadata": {},
   "source": [
    "# Part C : Plot the Moster Relation\n",
    "\n",
    "Reproduce the below figure from Moster + 2013 \n",
    "Plot this for z=0, 0.5, 1, 2\n",
    "\n",
    "![mos](./MosterFig.png)"
   ]
  },
  {
   "cell_type": "code",
   "execution_count": 6,
   "metadata": {},
   "outputs": [],
   "source": [
    "Mh = np.logspace(10,15,1000) # Logarithmically spaced array"
   ]
  },
  {
   "cell_type": "code",
   "execution_count": 7,
   "metadata": {},
   "outputs": [],
   "source": [
    "# Define Instances of the Class for each redshift\n",
    "MosterZ0 = AbundanceMatching(Mh,0)\n",
    "MosterZ_half = AbundanceMatching(Mh,0.5)\n",
    "MosterZ1 = AbundanceMatching(Mh,1)\n",
    "MosterZ2 = AbundanceMatching(Mh,2)"
   ]
  },
  {
   "cell_type": "code",
   "execution_count": 8,
   "metadata": {},
   "outputs": [
    {
     "data": {
      "text/plain": [
       "<matplotlib.legend.Legend at 0x1147aac18>"
      ]
     },
     "execution_count": 8,
     "metadata": {},
     "output_type": "execute_result"
    },
    {
     "data": {
      "image/png": "[encoded data removed]",
      "text/plain": [
       "<Figure size 720x576 with 1 Axes>"
      ]
     },
     "metadata": {
      "needs_background": "light"
     },
     "output_type": "display_data"
    }
   ],
   "source": [
    "\n",
    "fig,ax = plt.subplots(figsize=(10,8))\n",
    "\n",
    "\n",
    "#adjust tick label font size\n",
    "label_size = 22\n",
    "matplotlib.rcParams['xtick.labelsize'] = label_size \n",
    "matplotlib.rcParams['ytick.labelsize'] = label_size\n",
    "\n",
    "# Plot z = 0\n",
    "plt.plot(np.log10(Mh), np.log10(MosterZ0.StellarMass()),linewidth = 5, label='z=0')\n",
    "\n",
    "# Continue plotting for the other redshifts here\n",
    "plt.plot(np.log10(Mh), np.log10(MosterZ1.StellarMass()),linewidth = 5, color = 'red', label='z=1')\n",
    "plt.plot(np.log10(Mh), np.log10(MosterZ2.StellarMass()),linewidth = 5, color = 'green', label='z=2')\n",
    "plt.plot(np.log10(Mh), np.log10(MosterZ_half.StellarMass()),linewidth = 5, color = 'purple', label='z=0.5')\n",
    "# Axes labels \n",
    "plt.xlabel('log (M$_h$/M$_\\odot$)',fontsize=22) \n",
    "plt.ylabel('log (m$_\\star$/M$_\\odot$)', fontsize=22)\n",
    "\n",
    "# Legend\n",
    "plt.legend(loc='lower right',fontsize='x-large')\n",
    "\n",
    "\n"
   ]
  },
  {
   "cell_type": "markdown",
   "metadata": {},
   "source": [
    "# Part D\n",
    "\n",
    "# Q1\n",
    "\n",
    "In traditional models of the Magellanic Clouds (prior to 2010), the LMC is thought to have a halo mass of order $3 \\times 10^{10}$ M$_\\odot$.  According to LCDM theory, what should be the stellar mass of such a halo?  \n",
    "\n",
    "How does this compare against the actual observed stellar mass of the LMC at the present day of $3 \\times 10^9$ M$_\\odot$ ? \n",
    "\n",
    "What is the $\\Lambda$CDM expected halo mass? What is the origin of any discrepancy? "
   ]
  },
  {
   "cell_type": "code",
   "execution_count": 11,
   "metadata": {},
   "outputs": [
    {
     "data": {
      "text/plain": [
       "6.158217361361505"
      ]
     },
     "execution_count": 11,
     "metadata": {},
     "output_type": "execute_result"
    }
   ],
   "source": [
    "LMC = AbundanceMatching(3e10,0)\n",
    "\n",
    "LMC.StellarMass()/1e7 #this does not work with the Cold Dark Matter theory."
   ]
  },
  {
   "cell_type": "markdown",
   "metadata": {},
   "source": [
    "# Q2\n",
    "\n",
    "\n",
    "What is the expected stellar mass of an L* galaxy at z=0? \n",
    "\n",
    "What is the expected stellar mass of an L* galaxy at z = 2?  "
   ]
  },
  {
   "cell_type": "code",
   "execution_count": 15,
   "metadata": {},
   "outputs": [
    {
     "data": {
      "text/plain": [
       "3.0094661067077957"
      ]
     },
     "execution_count": 15,
     "metadata": {},
     "output_type": "execute_result"
    }
   ],
   "source": [
    "LMC2 = AbundanceMatching(1.65e11,0)\n",
    "LMC2.StellarMass()/1e9"
   ]
  },
  {
   "cell_type": "code",
   "execution_count": 16,
   "metadata": {},
   "outputs": [
    {
     "data": {
      "text/plain": [
       "11.59"
      ]
     },
     "execution_count": 16,
     "metadata": {},
     "output_type": "execute_result"
    }
   ],
   "source": [
    "LMC2.logM1()"
   ]
  },
  {
   "cell_type": "code",
   "execution_count": 17,
   "metadata": {},
   "outputs": [
    {
     "data": {
      "text/plain": [
       "1.3655484589299245"
      ]
     },
     "execution_count": 17,
     "metadata": {},
     "output_type": "execute_result"
    }
   ],
   "source": [
    "MstarZ0 = AbundanceMatching(10**LMC2.logM1(),0)\n",
    "MstarZ0.StellarMass()/1e10"
   ]
  },
  {
   "cell_type": "code",
   "execution_count": 19,
   "metadata": {},
   "outputs": [
    {
     "data": {
      "text/plain": [
       "3.0094661067077957"
      ]
     },
     "execution_count": 19,
     "metadata": {},
     "output_type": "execute_result"
    }
   ],
   "source": [
    "LMC2_old = AbundanceMatching(1.65e11,2)\n",
    "LMC2.StellarMass()/1e9"
   ]
  },
  {
   "cell_type": "code",
   "execution_count": 20,
   "metadata": {},
   "outputs": [
    {
     "data": {
      "text/plain": [
       "4.538969033454143"
      ]
     },
     "execution_count": 20,
     "metadata": {},
     "output_type": "execute_result"
    }
   ],
   "source": [
    "MstarZ2 = AbundanceMatching(10**LMC2_old.logM1(),2)\n",
    "MstarZ2.StellarMass()/1e10"
   ]
  },
  {
   "cell_type": "code",
   "execution_count": 21,
   "metadata": {},
   "outputs": [
    {
     "data": {
      "text/plain": [
       "12.386666666666667"
      ]
     },
     "execution_count": 21,
     "metadata": {},
     "output_type": "execute_result"
    }
   ],
   "source": [
    "LMC2_old.logM1()"
   ]
  },
  {
   "cell_type": "code",
   "execution_count": null,
   "metadata": {},
   "outputs": [],
   "source": []
  }
 ],
 "metadata": {
  "kernelspec": {
   "display_name": "Python 3",
   "language": "python",
   "name": "python3"
  },
  "language_info": {
   "codemirror_mode": {
    "name": "ipython",
    "version": 3
   },
   "file_extension": ".py",
   "mimetype": "text/x-python",
   "name": "python",
   "nbconvert_exporter": "python",
   "pygments_lexer": "ipython3",
   "version": "3.7.3"
  }
 },
 "nbformat": 4,
 "nbformat_minor": 2
}

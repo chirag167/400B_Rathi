{
 "cells": [
  {
   "cell_type": "markdown",
   "metadata": {},
   "source": [
    "# In Class Lab 1\n",
    "\n",
    "## Part A:  The Local Standard of Rest\n",
    "Proper motion of Sgr A* from Reid & Brunthaler 2004\n",
    "$\\mu = 6.379$ mas/yr \n",
    "\n",
    "Peculiar motion of the sun, $v_\\odot$ = 12.24 km/s  (Schonrich 2010)\n",
    "\n",
    "\n",
    "$v_{tan} = 4.74 \\frac{\\mu}{\\rm mas/yr} \\frac{R_o}{\\rm kpc} = V_{LSR} + v_\\odot$\n",
    "\n",
    "\n",
    "### a)\n",
    "\n",
    "Create a function called VLSR to compute the local standard of res (V$_{LSR}$).\n",
    "\n",
    "The function should take as input: the solar radius (R$_o$), the proper motion (mu)\n",
    "and the peculiar motion of the sun in the $v_\\odot$ direction.\n",
    "\n",
    "Compute V$_{LSR}$ using three different values R$_o$: \n",
    "1. Water Maser Distance for the Sun :  R$_o$ = 8.34 kpc   (Reid 2014 ApJ 783) \n",
    "2. GRAVITY Collaboration Distance for the Sun:  R$_o$ = 8.178 kpc   (Abuter+2019 A&A 625)\n",
    "3. Value for Distance to Sun listed in Sparke & Gallagher : R$_o$ = 7.9 kpc \n"
   ]
  },
  {
   "cell_type": "code",
   "execution_count": 27,
   "metadata": {},
   "outputs": [],
   "source": [
    "import numpy as np"
   ]
  },
  {
   "cell_type": "code",
   "execution_count": 28,
   "metadata": {},
   "outputs": [],
   "source": [
    "# Function to compute the Local Standard of Rest (LSR) velocity.\n",
    "# 4.74*mu*R_o = V_LSR + v_sun\n",
    "# V_LSR = 4.74*mu*R_o - v_sun\n",
    "\n",
    "def VLSR(R_o,mu=6.379,v_o = 12.24):\n",
    "    \n",
    "    # Inputs: R_o = distance from the sun to the galactic center (kpc)\\n\",\n",
    "    # mu = the proper motion of Sgr A* (mas/yr): Default is from Reid & Brunthaler, 2004\n",
    "    # v_o = the peculiar motion of the Sun in the v direction (km/s): Default is from Schonrich et. al, 2010\n",
    "    # Returns: VLSR, the local standard of rest (km/s)\n",
    "    \n",
    "    return 4.74*mu*R_o - v_o\n",
    "   \n"
   ]
  },
  {
   "cell_type": "code",
   "execution_count": 29,
   "metadata": {},
   "outputs": [],
   "source": [
    "R_oReid = 8.34 # distance to the GC according to Reid, 2014\n",
    "R_oGravity = 8.178 #distance to the GC according to Abuter+2019\n",
    "R_oSG = 7.9 #distance to the GC according to Sparke and Gallagher\n"
   ]
  },
  {
   "cell_type": "code",
   "execution_count": 30,
   "metadata": {},
   "outputs": [
    {
     "name": "stdout",
     "output_type": "stream",
     "text": [
      "239.9320764\n"
     ]
    }
   ],
   "source": [
    "VLSR_Reid = VLSR(R_oReid)\n",
    "print(VLSR_Reid) #VLSR using the R_o from the Reid paper\n"
   ]
  },
  {
   "cell_type": "code",
   "execution_count": 31,
   "metadata": {},
   "outputs": [
    {
     "name": "stdout",
     "output_type": "stream",
     "text": [
      "235.03376988000002\n"
     ]
    }
   ],
   "source": [
    "VLSR_GRAV = VLSR(R_oGravity)\n",
    "print(VLSR_GRAV) #VLSR using the R_o from the GRAVITY collaboration "
   ]
  },
  {
   "cell_type": "code",
   "execution_count": 32,
   "metadata": {},
   "outputs": [
    {
     "name": "stdout",
     "output_type": "stream",
     "text": [
      "226.628034\n"
     ]
    }
   ],
   "source": [
    "VLSR_SG = VLSR(R_oSG)\n",
    "print(VLSR_SG) #VLSR using the R_o from the Sparke and Gallagher\n"
   ]
  },
  {
   "cell_type": "markdown",
   "metadata": {},
   "source": [
    "### b)\n",
    "\n",
    "compute the orbital period of the sun using R$_o$ from the GRAVITY Collaboration (assume circular orbit)\n",
    "\n",
    "Note that 1 km/s $\\sim$ 1kpc/Gyr"
   ]
  },
  {
   "cell_type": "code",
   "execution_count": 33,
   "metadata": {},
   "outputs": [
    {
     "name": "stdout",
     "output_type": "stream",
     "text": [
      "0.20780161788713317\n"
     ]
    }
   ],
   "source": [
    "#Orbital period of the sun, using the R_o from GRAVITY collaboration\n",
    "# P + 2piR/V\\n\",\n",
    "# V = Vtan = VLSR + Vsun\n",
    "Vtan = VLSR_GRAV + 12.24\n",
    "P_Grav = 2*np.pi*R_oGravity/Vtan #using v = 1kpc/Gyr\n",
    "print(P_Grav) #in Gyr\"\n"
   ]
  },
  {
   "cell_type": "markdown",
   "metadata": {},
   "source": [
    "### c)\n",
    "\n",
    "Compute the number of rotations about the GC over the age of the universe (13.8 Gyr)"
   ]
  },
  {
   "cell_type": "code",
   "execution_count": 34,
   "metadata": {},
   "outputs": [
    {
     "name": "stdout",
     "output_type": "stream",
     "text": [
      "66.40949257428511\n"
     ]
    }
   ],
   "source": [
    "# compute the number of rotations about the GC.\n",
    "# revolutions = Age of the Universe/P_Grav\n",
    "rotations = 13.8/P_Grav\n",
    "print(rotations)"
   ]
  },
  {
   "cell_type": "markdown",
   "metadata": {},
   "source": [
    "## Part B  Dark Matter Density Profiles\n",
    "\n",
    "### a)\n",
    "Try out Fitting Rotation Curves \n",
    "[here](http://wittman.physics.ucdavis.edu/Animations/RotationCurve/GalacticRotation.html)\n",
    "\n",
    "\n",
    "### b)\n",
    "\n",
    "In the Isothermal Sphere model, what is the mass enclosed within the solar radius (R$_o$) in units of $10^{10}$ M$_\\odot$? \n",
    "\n",
    "Recall that for the Isothermal sphere :\n",
    "$\\rho(r) = \\frac{V_{LSR}^2}{4\\pi G r^2}$\n",
    "\n",
    "Where $G$ = 4.4988e-6 kpc$^3$/Gyr$^2$/M$_\\odot$\n",
    "\n",
    "What about at 260 kpc (in units of 10$^{12}$ M$_\\odot$) ? "
   ]
  },
  {
   "cell_type": "code",
   "execution_count": 35,
   "metadata": {},
   "outputs": [],
   "source": [
    "# Gravitational constant\n",
    "G = 4.4988e-6 #kpc^3/Gyr^2/M_sun"
   ]
  },
  {
   "cell_type": "code",
   "execution_count": 36,
   "metadata": {},
   "outputs": [],
   "source": [
    "# Going to compute the mass enclosed within the solar radius assuming an isothermal sphere model\n",
    "# Density profile rho = VLSR^2/(4*pi*G*R^2)\n",
    "# mass = integrate rho dV\n",
    "#        integrate rho 4*pi*r^2*dr\n",
    "#.       integrate VLSR^2/(4*pi*G*r^2) * (4*pi*r^2)dr\n",
    "#.       integrate VLSR^2/G dr\n",
    "#.       VLSR^2/G * r\n",
    "def MassIso(r,VLSR=235):\n",
    "    #Inputs: \\n\",\n",
    "    #.      VLSR is the local standard of rest velocity (km/s)\n",
    "    #       r is the distance from the GC (kpc)\n",
    "    # Returns:\n",
    "    #.       mass enclosed within solar radius\n",
    "    return VLSR**2/G*r\n"
   ]
  },
  {
   "cell_type": "code",
   "execution_count": 37,
   "metadata": {},
   "outputs": [
    {
     "name": "stdout",
     "output_type": "stream",
     "text": [
      "10.038900373432917\n"
     ]
    }
   ],
   "source": [
    "# compute mass enclosed within R_o (from GRAVITY collaboration)\\n\",\n",
    "MIsoSolar = MassIso(R_oGravity)\n",
    "print(MIsoSolar/1e10) #units of 1e10 Msun\""
   ]
  },
  {
   "cell_type": "code",
   "execution_count": 38,
   "metadata": {},
   "outputs": [
    {
     "name": "stdout",
     "output_type": "stream",
     "text": [
      "3.191628878812128\n"
     ]
    }
   ],
   "source": [
    "# compute mass enclosed within 260 kpc\\n\",\n",
    "MIso260 = MassIso(260)\n",
    "print(MIso260/1e12)"
   ]
  },
  {
   "cell_type": "markdown",
   "metadata": {},
   "source": [
    "## c) \n",
    "\n",
    "The Leo I satellite is one of the fastest moving satellite galaxies we know. \n",
    "\n",
    "\n",
    "It is moving with 3D velocity of magnitude: Vtot = 196 km/s at a distance of 260 kpc (Sohn 2013 ApJ 768)\n",
    "\n",
    "If we assume that Leo I is moving at the escape speed:\n",
    "\n",
    "$v_{esc}^2 = 2|\\Phi| = 2 \\int G \\frac{\\rho(r)}{r}dV $ \n",
    "\n",
    "and assuming the Milky Way is well modeled by a Hernquist Sphere with a scale radius of $a$= 30 kpc, what is the minimum mass of the Milky Way (in units of $10^{12}$ M$_\\odot$) ?  \n",
    "\n",
    "How does this compare to estimates of the mass assuming the Isothermal Sphere model at 260 kpc (from your answer above)"
   ]
  },
  {
   "cell_type": "code",
   "execution_count": 39,
   "metadata": {},
   "outputs": [],
   "source": [
    "# Potential for a Hernquist sphere: phi = -G*M/(r+a)\\n\",\n",
    "# using the Hernquist potential, the escape speed becomes: v_esc^2 = 2*G*M/(r+a)\\n\",\n",
    "# Rearranging the escape speed equation for M: M = v_esc^2*(r+a)/(2*G) = 196^2/2/(G*(260+30))\\n\",\n",
    "  \n",
    "# Function will determine the total halo mass needed to set a given escape speed at a given distance.\\n\",\n",
    "# assuming a Hernquist profile for dark matter halo.\\n\",\n",
    "   \n",
    "def MassfromVesc(v_esc,a,r):\n",
    "    # inputs:\\n\",\n",
    "    #.      v_esc is the escape speed in km/s\\n\",\n",
    "    #.      r is the distance from the GC (kpc)\\n\",\n",
    "    #       a = Hernquist scale length (kpc)\\n\",\n",
    "    #Return:\\n\",\n",
    "    #.     Total mass in Msun\\n\",\n",
    "    return v_esc**2/2/G*(r+a)"
   ]
  },
  {
   "cell_type": "code",
   "execution_count": 40,
   "metadata": {},
   "outputs": [
    {
     "name": "stdout",
     "output_type": "stream",
     "text": [
      "1.2381790699742152\n"
     ]
    }
   ],
   "source": [
    "# mass needed to keep Leo 1 bound, assuming a Hernquist profile.\n",
    "MLeoI = MassfromVesc(196,30,260)\n",
    "print(MLeoI/1e12)"
   ]
  },
  {
   "cell_type": "code",
   "execution_count": 41,
   "metadata": {},
   "outputs": [
    {
     "data": {
      "text/plain": [
       "2.577679558804521"
      ]
     },
     "execution_count": 41,
     "metadata": {},
     "output_type": "execute_result"
    }
   ],
   "source": [
    "MIso260/MLeoI"
   ]
  },
  {
   "cell_type": "code",
   "execution_count": null,
   "metadata": {},
   "outputs": [],
   "source": []
  }
 ],
 "metadata": {
  "kernelspec": {
   "display_name": "Python 3",
   "language": "python",
   "name": "python3"
  },
  "language_info": {
   "codemirror_mode": {
    "name": "ipython",
    "version": 3
   },
   "file_extension": ".py",
   "mimetype": "text/x-python",
   "name": "python",
   "nbconvert_exporter": "python",
   "pygments_lexer": "ipython3",
   "version": "3.7.3"
  }
 },
 "nbformat": 4,
 "nbformat_minor": 2
}

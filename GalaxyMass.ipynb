{
 "cells": [
  {
   "cell_type": "code",
   "execution_count": 1,
   "metadata": {},
   "outputs": [],
   "source": [
    "# Creating a function to calculate the total mass of a galaxy component.\n",
    "# Galaxy components: Halo, disk, bulge etc.\n",
    "\n",
    "from Read import Read\n",
    "import numpy as np\n",
    "from astropy import units as u\n",
    "\n",
    "def ComponentMass(filename,particle_type):\n",
    "    # Inputs:\n",
    "    #      filename = name of the file to read.\n",
    "    #       particle_type = galaxy component: 1 = Halo, 2 = Disk, 3 = Bulge.\n",
    "    # Returns:\n",
    "    #       total mass of the galaxy component.\n",
    "    \n",
    "    time, particles, data = Read(filename)\n",
    "    index = np.where(data['type']== particle_type)\n",
    "    mass = data['m'][index]\n",
    "    comp_mass = sum(mass)/1e2*u.Msun\n",
    "    \n",
    "    return np.around(comp_mass,3)\n",
    "    "
   ]
  },
  {
   "cell_type": "code",
   "execution_count": 4,
   "metadata": {},
   "outputs": [
    {
     "data": {
      "text/latex": [
       "$0.075 \\; \\mathrm{M_{\\odot}}$"
      ],
      "text/plain": [
       "<Quantity 0.075 solMass>"
      ]
     },
     "execution_count": 4,
     "metadata": {},
     "output_type": "execute_result"
    }
   ],
   "source": [
    "ComponentMass(\"MW_000.txt\",2)"
   ]
  },
  {
   "cell_type": "code",
   "execution_count": null,
   "metadata": {},
   "outputs": [],
   "source": []
  }
 ],
 "metadata": {
  "kernelspec": {
   "display_name": "Python 3",
   "language": "python",
   "name": "python3"
  },
  "language_info": {
   "codemirror_mode": {
    "name": "ipython",
    "version": 3
   },
   "file_extension": ".py",
   "mimetype": "text/x-python",
   "name": "python",
   "nbconvert_exporter": "python",
   "pygments_lexer": "ipython3",
   "version": "3.7.3"
  }
 },
 "nbformat": 4,
 "nbformat_minor": 2
}

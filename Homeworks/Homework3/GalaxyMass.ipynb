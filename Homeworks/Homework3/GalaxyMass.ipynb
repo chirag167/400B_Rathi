{
 "cells": [
  {
   "cell_type": "code",
   "execution_count": 2,
   "metadata": {},
   "outputs": [],
   "source": [
    "# Creating a function to calculate the total mass of a galaxy component.\n",
    "# Galaxy components: Halo (DM), disk, bulge.\n",
    "\n",
    "from ReadFile import Read\n",
    "import numpy as np\n",
    "from astropy import units as u\n",
    "\n",
    "def ComponentMass(filename,particle_type):\n",
    "    # Inputs:\n",
    "    #      filename = name of the file to read.\n",
    "    #       particle_type = galaxy component: 1 = Halo, 2 = Disk, 3 = Bulge.\n",
    "    # Returns:\n",
    "    #       total mass of the galaxy component.\n",
    "    \n",
    "    time, particles, data = Read(filename)\n",
    "    # finding a particular particle_type.\n",
    "    index = np.where(data['type']== particle_type)\n",
    "    mass = data['m'][index]\n",
    "    comp_mass = sum(mass)/1e2*u.Msun # in units of Msun/1e12. \n",
    "    \n",
    "    # NOTE:In the file, the mass is already in units of Msun/1e10.\n",
    "    \n",
    "    return np.around(comp_mass,3) #rounding off the component mass to 3 decimal places.\n",
    "    "
   ]
  },
  {
   "cell_type": "code",
   "execution_count": 3,
   "metadata": {},
   "outputs": [
    {
     "name": "stdout",
     "output_type": "stream",
     "text": [
      "1.975 solMass\n"
     ]
    }
   ],
   "source": [
    "# The mass of the component 1 (Halo) for the Milky Way Galaxy is:\n",
    "HaloMass_MW = ComponentMass(\"MW_000.txt\",1)\n",
    "print(HaloMass_MW)"
   ]
  },
  {
   "cell_type": "code",
   "execution_count": 4,
   "metadata": {},
   "outputs": [
    {
     "name": "stdout",
     "output_type": "stream",
     "text": [
      "0.075 solMass\n"
     ]
    }
   ],
   "source": [
    "# The mass of component 2 (Disk stars) for the Milky Way Galaxy is:\n",
    "DiskMass_MW = ComponentMass(\"MW_000.txt\",2)\n",
    "print(DiskMass_MW)"
   ]
  },
  {
   "cell_type": "code",
   "execution_count": 5,
   "metadata": {},
   "outputs": [
    {
     "name": "stdout",
     "output_type": "stream",
     "text": [
      "0.01 solMass\n"
     ]
    }
   ],
   "source": [
    "# The mass of component 3 (Bulge stars) for the Milky Way Galaxy is:\n",
    "BulgeMass_MW = ComponentMass(\"MW_000.txt\",3)\n",
    "print(BulgeMass_MW)"
   ]
  },
  {
   "cell_type": "code",
   "execution_count": 6,
   "metadata": {},
   "outputs": [
    {
     "name": "stdout",
     "output_type": "stream",
     "text": [
      "2.06 solMass\n"
     ]
    }
   ],
   "source": [
    "# Calculating the total mass of the Milky Way Galaxy\n",
    "TotalMass_MW = 0 # Setting the initial total mass to 0\n",
    "# Using a for loop over the particle_type (in the function ComponentMass)\n",
    "# Prints the total mass of the MW Galaxy\n",
    "for i in range(1,4):\n",
    "    TotalMass_MW += ComponentMass(\"MW_000.txt\",i)\n",
    "print(TotalMass_MW)"
   ]
  },
  {
   "cell_type": "code",
   "execution_count": 7,
   "metadata": {},
   "outputs": [
    {
     "name": "stdout",
     "output_type": "stream",
     "text": [
      "0.041\n"
     ]
    }
   ],
   "source": [
    "# Calculating the baryon fraction of MW:\n",
    "fbar_MW = (DiskMass_MW+BulgeMass_MW)/TotalMass_MW\n",
    "print(np.around(fbar_MW,3))"
   ]
  },
  {
   "cell_type": "code",
   "execution_count": 8,
   "metadata": {},
   "outputs": [
    {
     "name": "stdout",
     "output_type": "stream",
     "text": [
      "1.921 solMass\n"
     ]
    }
   ],
   "source": [
    "# The mass of component 1 (Halo) for Andromeda Galaxy (M31) is:\n",
    "HaloMass_M31 = ComponentMass(\"M31_000.txt\",1)\n",
    "print(HaloMass_M31)"
   ]
  },
  {
   "cell_type": "code",
   "execution_count": 9,
   "metadata": {},
   "outputs": [
    {
     "name": "stdout",
     "output_type": "stream",
     "text": [
      "0.12 solMass\n"
     ]
    }
   ],
   "source": [
    "# The mass of component 2 (Disk stars) for Andromeda Galaxy (M31) is:\n",
    "DiskMass_M31 = ComponentMass(\"M31_000.txt\",2)\n",
    "print(DiskMass_M31)"
   ]
  },
  {
   "cell_type": "code",
   "execution_count": 10,
   "metadata": {},
   "outputs": [
    {
     "name": "stdout",
     "output_type": "stream",
     "text": [
      "0.019 solMass\n"
     ]
    }
   ],
   "source": [
    "# The mass of component 3 (Bulge stars) for Andromeda Galaxy (M31) is:\n",
    "BulgeMass_M31 = ComponentMass(\"M31_000.txt\",3)\n",
    "print(BulgeMass_M31)"
   ]
  },
  {
   "cell_type": "code",
   "execution_count": 11,
   "metadata": {},
   "outputs": [
    {
     "name": "stdout",
     "output_type": "stream",
     "text": [
      "2.06 solMass\n"
     ]
    }
   ],
   "source": [
    "# Calculating the total mass of the Andromeda Galaxy\n",
    "TotalMass_M31 = 0 # Setting the initial total mass to 0\n",
    "# Using a for loop over the particle_type (in the function ComponentMass)\n",
    "# Prints the total mass of the M31 Galaxy\n",
    "for i in range(1,4):\n",
    "    TotalMass_M31 += ComponentMass(\"M31_000.txt\",i)\n",
    "print(TotalMass_M31)"
   ]
  },
  {
   "cell_type": "code",
   "execution_count": 12,
   "metadata": {},
   "outputs": [
    {
     "name": "stdout",
     "output_type": "stream",
     "text": [
      "0.067\n"
     ]
    }
   ],
   "source": [
    "# Calculating the baryon fraction of M31:\n",
    "fbar_M31 = (DiskMass_M31+BulgeMass_M31)/TotalMass_M31\n",
    "print(np.around(fbar_M31,3))"
   ]
  },
  {
   "cell_type": "code",
   "execution_count": 13,
   "metadata": {},
   "outputs": [
    {
     "name": "stdout",
     "output_type": "stream",
     "text": [
      "0.187 solMass\n"
     ]
    }
   ],
   "source": [
    "# The mass of component 1 (Halo) for the M33 Galaxy is:\n",
    "HaloMass_M33= ComponentMass(\"M33_000.txt\",1)\n",
    "print(HaloMass_M33)"
   ]
  },
  {
   "cell_type": "code",
   "execution_count": 14,
   "metadata": {},
   "outputs": [
    {
     "name": "stdout",
     "output_type": "stream",
     "text": [
      "0.009 solMass\n"
     ]
    }
   ],
   "source": [
    "# The mass of component 2 (Disk stars) for the M33 Galaxy is:\n",
    "DiskMass_M33 = ComponentMass(\"M33_000.txt\",2)\n",
    "print(DiskMass_M33)"
   ]
  },
  {
   "cell_type": "code",
   "execution_count": 15,
   "metadata": {},
   "outputs": [
    {
     "name": "stdout",
     "output_type": "stream",
     "text": [
      "0.0 solMass\n"
     ]
    }
   ],
   "source": [
    "# The mass of component 3 (Bulge stars) for the M33 Galaxy is:\n",
    "BulgeMass_M33 = ComponentMass(\"M33_000.txt\",3)\n",
    "print(BulgeMass_M33)"
   ]
  },
  {
   "cell_type": "code",
   "execution_count": 16,
   "metadata": {},
   "outputs": [
    {
     "name": "stdout",
     "output_type": "stream",
     "text": [
      "0.196 solMass\n"
     ]
    }
   ],
   "source": [
    "# Calculating the total mass of M33 Galaxy\n",
    "TotalMass_M33 = 0 # Setting the initial total mass to 0\n",
    "# Using a for loop over the particle_type (in the function ComponentMass)\n",
    "# Prints the total mass of the M33 Galaxy\n",
    "for i in range(1,4):\n",
    "    TotalMass_M33 += ComponentMass(\"M33_000.txt\",i)\n",
    "print(TotalMass_M33)"
   ]
  },
  {
   "cell_type": "code",
   "execution_count": 17,
   "metadata": {},
   "outputs": [
    {
     "name": "stdout",
     "output_type": "stream",
     "text": [
      "0.046\n"
     ]
    }
   ],
   "source": [
    "# Calculating the baryon fraction of M33:\n",
    "fbar_M33 = (DiskMass_M33+BulgeMass_M33)/TotalMass_M33\n",
    "print(np.around(fbar_M33,3))"
   ]
  },
  {
   "cell_type": "code",
   "execution_count": 18,
   "metadata": {},
   "outputs": [
    {
     "name": "stdout",
     "output_type": "stream",
     "text": [
      "4.316 solMass\n"
     ]
    }
   ],
   "source": [
    "# Calculating total mass of the local group.\n",
    "LocGroupMass = TotalMass_MW + TotalMass_M31 + TotalMass_M33\n",
    "print(LocGroupMass)"
   ]
  },
  {
   "cell_type": "code",
   "execution_count": null,
   "metadata": {},
   "outputs": [],
   "source": []
  }
 ],
 "metadata": {
  "kernelspec": {
   "display_name": "Python 3",
   "language": "python",
   "name": "python3"
  },
  "language_info": {
   "codemirror_mode": {
    "name": "ipython",
    "version": 3
   },
   "file_extension": ".py",
   "mimetype": "text/x-python",
   "name": "python",
   "nbconvert_exporter": "python",
   "pygments_lexer": "ipython3",
   "version": "3.7.3"
  }
 },
 "nbformat": 4,
 "nbformat_minor": 2
}

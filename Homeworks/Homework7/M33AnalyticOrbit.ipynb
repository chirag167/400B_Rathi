{
 "cells": [
  {
   "cell_type": "code",
   "execution_count": 1,
   "metadata": {},
   "outputs": [],
   "source": [
    "# Importing general python modules\n",
    "import numpy as np\n",
    "import astropy.constants as const\n",
    "import astropy.units as u\n",
    "# Plotting packages\n",
    "import matplotlib.pyplot as plt\n",
    "import matplotlib\n",
    "# Importing the modules to be used in the class.\n",
    "from GalaxyMass import ComponentMass\n",
    "from CenterOfMass_2 import CenterOfMass\n",
    "from IPython.display import Latex\n",
    "from ReadFile import Read"
   ]
  },
  {
   "cell_type": "code",
   "execution_count": 2,
   "metadata": {},
   "outputs": [],
   "source": [
    "class M33AnalyticOrbit:\n",
    "    \n",
    "    def __init__(self,filename):\n",
    "        ''' Initiating the class.\n",
    "        INPUTS: output filename (defined below)'''\n",
    "        \n",
    "        # Instantiating G's value without units.\n",
    "        self.G = const.G.to(u.kpc**3/u.Msun/u.Gyr**2).value\n",
    "        \n",
    "        # defining the output file.\n",
    "        self.filename = '%s.txt'%(filename)\n",
    "        \n",
    "        # Instantiating CenterOfMass for M33.\n",
    "        M33 = CenterOfMass('M33_000.txt',2)\n",
    "        \n",
    "        # Calling the COM_P and COM_V functions to find the center of mass pos/vel of M33\n",
    "        self.M33r = M33.COM_P(0.1,4.0)\n",
    "        self.M33v = M33.COM_V(self.M33r[0],self.M33r[1],self.M33r[2])\n",
    "        # Instantiating center of mass for M31.\n",
    "        M31 = CenterOfMass('M31_000.txt',2)\n",
    "        \n",
    "        # Calling COM_P and COM_V functions in CenterOfMass to calculate pos/vel of M31.\n",
    "        self.M31r = M31.COM_P(0.1,2.0)\n",
    "        self.M31v = M31.COM_V(self.M31r[0],self.M31r[1],self.M31r[2])\n",
    "        \n",
    "        # Difference of the po/vel vectors of M33 and M31.\n",
    "        self.r0 = np.array(self.M33r) - np.array(self.M31r)\n",
    "        self.v0 = np.array(self.M33v) - np.array(self.M31v)\n",
    "        \n",
    "        # scale length for disk\n",
    "        self.rdisk = 5\n",
    "        # calling the component mass function to calculate the disk mass (ptype = 2)\n",
    "        self.Mdisk = ComponentMass('M31_000.txt',2)\n",
    "        # scale length of bulge.\n",
    "        self.rbulge = 1\n",
    "        # calculating the bulge mass (ptype = 3)\n",
    "        self.Mbulge = ComponentMass('M31_000.txt',3)\n",
    "        # scale radius for halo\n",
    "        self.rhalo = 62\n",
    "        # calculating the halo mass (ptype = 1)\n",
    "        self.Mhalo = ComponentMass('M31_000.txt',1)\n",
    "        \n",
    "        \n",
    "    def HernquistAccel(self, M, r_a,x,y,z):\n",
    "        '''Function to calculate the gravitational acceleration of bulge and halo mass\n",
    "        through the Hernquist profile.\n",
    "        INPUTS: mass (bulge or halo) in M_sun, scale radius (r_a), relative distance between the galaxies\n",
    "        represented by the vector (x,y,z)\n",
    "        RETURNS: The gravitational acceleration VECTOR.'''\n",
    "        # defining the x,y,z coordinates of the M33-M31 distance.\n",
    "    \n",
    "        x = self.r0[0]\n",
    "        y = self.r0[1]\n",
    "        z = self.r0[2]\n",
    "        r = np.sqrt(x*x + y*y + z*z)\n",
    "        # calculating the gravitational acceleration.\n",
    "    \n",
    "        a_x = -(self.G)*M/r/(r+r_a)**2*x\n",
    "        a_y = -(self.G)*M/r/(r+r_a)**2*y\n",
    "        a_z = -(self.G)*M/r/(r+r_a)**2*z\n",
    "        # assigning the components of the acceleration to an array (aBulgeHalo)\n",
    "        aHernquist = np.array([a_x.value,a_y.value,a_z.value])\n",
    "        return aHernquist\n",
    "        \n",
    "    def MiyamotoNagaiAccel(self, M, rd, x, y, z):\n",
    "        ''' Function to calculate the gravitational acceleration of disk particles through the Miyamoto\n",
    "        Nagai profile. \n",
    "        INPUTS: mass (in M_sun), scaling length (r_disk), relative distance between the galaxies, \n",
    "        represented by a vector.\n",
    "        RETURNS: the gravitational acceleration of disk particles.'''\n",
    "        # Same as in HernquistAccel\n",
    "        x = self.r0[0]\n",
    "        y = self.r0[1]\n",
    "        z = self.r0[2]\n",
    "        # defining extra terms required for the calculation.\n",
    "        rd = self.rdisk\n",
    "        zd = rd/5.0\n",
    "        R = np.sqrt(x**2 + y**2)\n",
    "        B = rd + np.sqrt(z**2 + zd**2)\n",
    "            \n",
    "        # calculating the x,y and z components of the acceleration.\n",
    "        a_x = -self.G*M/(R**2 + B**2)**1.5*x\n",
    "        a_y = -self.G*M/(R**2 + B**2)**1.5*y\n",
    "            \n",
    "        az1 = -self.G*M/(R**2 + B**2)**1.5*z\n",
    "        a_z = az1*B/np.sqrt(z**2 + zd**2)\n",
    "            \n",
    "        # assigning the components of the acceleration to an a array (aDisk)\n",
    "        aDisk = np.array([a_x.value,a_y.value,a_z.value])\n",
    "        return aDisk\n",
    "        \n",
    "    def M31Accel(self, x, y, z):\n",
    "        ''' Function to calculate the total acceleration VECTOR of M31.\n",
    "        INPUTS: (x,y,z) coordinates of the M33-M31 distance.\n",
    "        RETURNS: the total acceleration of M31.'''\n",
    "            \n",
    "        aTotal = self.HernquistAccel(self.Mbulge,self.rbulge,x,y,z) + self.HernquistAccel(self.Mhalo,self.rhalo,x,y,z) + self.MiyamotoNagaiAccel(self.Mdisk,self.rdisk,x,y,z)\n",
    "        return aTotal\n",
    "    \n",
    "        \n",
    "    def LeapFrog(self,dt,r,v):\n",
    "        '''defining a function that calculates the relative positions and velocities of the galaxies\n",
    "        at various timesteps.\n",
    "        INPUTS: time interval (dt), distance between the two galaxies (x,y,z) and relative velocities\n",
    "        of the two galaxies (vx,vy,vz)\n",
    "        RETURNS: the relative position and velocity at full timestep. '''\n",
    "        \n",
    "        # Refer to the HW-7 guidelines where these formulae are laid out.\n",
    "        r_half = r + v*dt/2\n",
    "        # assigning the components to an array.\n",
    "            \n",
    "        v_full = v + self.M31Accel(r_half[0],r_half[1],r_half[2])*dt\n",
    "            \n",
    "        r_full = r_half + v_full*dt/2\n",
    "            \n",
    "        return r_full,v_full\n",
    "            \n",
    "    def OrbitIntegrator(self,t0,dt,tmax):\n",
    "        '''defining a function that loops over the LeapFrog function and updates the kinematics of \n",
    "        galaxies at various times.\n",
    "        INPUTS: starting time (t0), ending time (tmax), time interval (dt)\n",
    "        RETURNS: a file containing the relative distances and velocities of M33-M31 system at various \n",
    "        times.'''\n",
    "            \n",
    "        t = t0\n",
    "        \n",
    "        # initializing an array\n",
    "        Orbit = np.zeros([int(tmax/dt)+2, 7])\n",
    "        # defining the first row of the array.\n",
    "        Orbit[0] = t0, *tuple(self.r0), *tuple(self.v0)\n",
    "        # initializing array elements\n",
    "        i = 1\n",
    "                \n",
    "        while t<=tmax: # as long as t does not cross tmax:\n",
    "            t += dt # update time by dt\n",
    "            Orbit[i,1] = t # the first column of the array will have time\n",
    "            \n",
    "            rnew,vnew = self.LeapFrog(dt,self.r0,self.v0) # calculating new positions and velocites.\n",
    "            self.r0 = rnew # updating position and velocity in each step\n",
    "            self.v0 = vnew\n",
    "            # store the positions and velocities in the respective columns.\n",
    "            Orbit[i,1:4] = rnew\n",
    "            Orbit[i,4:7] = vnew\n",
    "            # update the array element.\n",
    "            i += 1\n",
    "            \n",
    "        \n",
    "                \n",
    "        # save the output file.        \n",
    "        np.savetxt(self.filename,Orbit,fmt = \"%11.3f\"*7, comments='#',\n",
    "                    header=\"{:>10s}{:>11s}{:>11s}{:>11s}{:>11s}{:>11s}{:>11s}\"\\\n",
    "                            .format('t', 'x', 'y', 'z', 'vx', 'vy', 'vz')) \n",
    "        \n",
    "# Acknowledgement: This code was completed with the assistance of Dr. Besla, Rixin Li\n",
    "# and my classmate Joseph Hickey."
   ]
  },
  {
   "cell_type": "code",
   "execution_count": 3,
   "metadata": {},
   "outputs": [],
   "source": [
    "Integrate = M33AnalyticOrbit('Integrated_Orbit') # instantiating the class"
   ]
  },
  {
   "cell_type": "code",
   "execution_count": 4,
   "metadata": {},
   "outputs": [],
   "source": [
    "Integrate.OrbitIntegrator(0,0.1,10)"
   ]
  },
  {
   "cell_type": "code",
   "execution_count": 5,
   "metadata": {},
   "outputs": [],
   "source": [
    "# extracting the distance and velocity vectors from Integrated_Orbit.txt and storing them in arrays.\n",
    "Dist = np.genfromtxt('Integrated_Orbit.txt',dtype=None,names=None,usecols=(1,2,3))\n",
    "Vel = np.genfromtxt('Integrated_Orbit.txt',dtype=None,names=None,usecols=(4,5,6))\n"
   ]
  },
  {
   "cell_type": "code",
   "execution_count": 6,
   "metadata": {},
   "outputs": [],
   "source": [
    "def Mag(array):\n",
    "    '''Simple function to calculate the magnitude of any vector.\n",
    "    INPUT: an array representing a 3D vector.\n",
    "    RETURNS: The magnitude of the vector'''\n",
    "    \n",
    "    X = array[:,0] # x-components in an array.\n",
    "    \n",
    "    Y = array[:,1]  #  y-components in an array.\n",
    "    \n",
    "    Z = array[:,2] #  z-components in an array.\n",
    "    \n",
    "    mag = np.sqrt(X**2 + Y**2 + Z**2) # magnitude of the vector.\n",
    "    \n",
    "    return mag"
   ]
  },
  {
   "cell_type": "code",
   "execution_count": 7,
   "metadata": {},
   "outputs": [],
   "source": [
    "mag_dist = Mag(Dist) # magnitude of the separation vector\n",
    "mag_vel = Mag(Vel) # magnitude of the velocity vector"
   ]
  },
  {
   "cell_type": "code",
   "execution_count": 8,
   "metadata": {},
   "outputs": [
    {
     "data": {
      "text/plain": [
       "Text(0.5, 1.0, 'Relative distance in 12 Gyr')"
      ]
     },
     "execution_count": 8,
     "metadata": {},
     "output_type": "execute_result"
    },
    {
     "data": {
      "image/png": "[encoded data removed]",
      "text/plain": [
       "<Figure size 720x720 with 1 Axes>"
      ]
     },
     "metadata": {
      "needs_background": "light"
     },
     "output_type": "display_data"
    }
   ],
   "source": [
    "fig = plt.figure(figsize=(10,10))\n",
    "ax = plt.subplot(111)\n",
    "t = np.arange(0,10.2,0.1)\n",
    "\n",
    "# plotting seperation between M33 and M31 over a period of 12 Gyr.\n",
    "plt.plot(t, mag_dist, color='orange', linewidth=3, label='M33-M31')\n",
    "\n",
    "\n",
    "# the axes labels\n",
    "plt.xlabel('Time (Gyr)', fontsize=22)\n",
    "plt.ylabel('Separation (kpc)', fontsize=22)\n",
    "\n",
    "# Axes limits:\n",
    "plt.xlim(0,12)\n",
    "plt.ylim(0,1500)\n",
    "\n",
    "# Customized legend\n",
    "ax.legend(loc = 'upper right',frameon = True, prop={'size':15})\n",
    "\n",
    "# plot title\n",
    "plt.title('Relative distance in 12 Gyr', fontsize = 20)"
   ]
  },
  {
   "cell_type": "code",
   "execution_count": 9,
   "metadata": {},
   "outputs": [
    {
     "data": {
      "text/plain": [
       "Text(0.5, 1.0, 'Relative velocity in 12 Gyr')"
      ]
     },
     "execution_count": 9,
     "metadata": {},
     "output_type": "execute_result"
    },
    {
     "data": {
      "image/png": "[encoded data removed]",
      "text/plain": [
       "<Figure size 720x720 with 1 Axes>"
      ]
     },
     "metadata": {
      "needs_background": "light"
     },
     "output_type": "display_data"
    }
   ],
   "source": [
    "fig = plt.figure(figsize=(10,10))\n",
    "ax = plt.subplot(111)\n",
    "t = np.arange(0,10.2,0.1)\n",
    "\n",
    "# plotting relative velocity between M33 and M31 over a period of 12 Gyr.\n",
    "plt.plot(t, mag_vel, color='magenta', linewidth=3, label='M33-M31')\n",
    "\n",
    "\n",
    "# the axes labels\n",
    "plt.xlabel('Time (Gyr)', fontsize=22)\n",
    "plt.ylabel('Velocity (km/s)', fontsize=22)\n",
    "\n",
    "# Axes limits:\n",
    "plt.xlim(0,12)\n",
    "plt.ylim(0,500)\n",
    "\n",
    "# Customized legend\n",
    "ax.legend(loc = 'upper right',frameon = True, prop={'size':15})\n",
    "\n",
    "# plot title\n",
    "plt.title('Relative velocity in 12 Gyr', fontsize = 20)"
   ]
  },
  {
   "cell_type": "markdown",
   "metadata": {},
   "source": [
    "The simulation from HW-6 show that the M33-M31 system will undergo multiple encounters before merging into one system while the analytical solution seems to imply that there is going to be only one interaction between the two galaxies. The closest approach (according to the analytical solution) will happen sometime in the next 1 billion years.\n",
    "\n",
    "The outcomes in the graphs are quite different because we have not accounted for the Milky Way's gravitational affect on the interaction of M31-M33. The MW-M31-M33 system make a three-body problem that has no solutions theoretically. So, to account for the MW's affect we would have to perform numerical simulations and approximations in this case (or treat it as a reduced mass problem). The reason M33 flies off to a greater distance in this case is because it is not affected by the Milky Way's mass (because we have not accounted for it). \n",
    "Thus, in order for the analytical solution to mimic the simulations from HW-6, we need to account for the affects of Milky Way on this M33-M31 system.\n",
    "\n",
    "We could include the Milky Way's affect on this system by treating it as a reduced mass problem (Mass1 = MW mass and Mass2 = M31+M33 mass)."
   ]
  },
  {
   "cell_type": "code",
   "execution_count": null,
   "metadata": {},
   "outputs": [],
   "source": []
  }
 ],
 "metadata": {
  "kernelspec": {
   "display_name": "Python 3",
   "language": "python",
   "name": "python3"
  },
  "language_info": {
   "codemirror_mode": {
    "name": "ipython",
    "version": 3
   },
   "file_extension": ".py",
   "mimetype": "text/x-python",
   "name": "python",
   "nbconvert_exporter": "python",
   "pygments_lexer": "ipython3",
   "version": "3.7.3"
  }
 },
 "nbformat": 4,
 "nbformat_minor": 2
}

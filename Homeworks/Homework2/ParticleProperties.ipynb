{
 "cells": [
  {
   "cell_type": "code",
   "execution_count": 1,
   "metadata": {},
   "outputs": [
    {
     "data": {
      "text/plain": [
       "(<Quantity 0.00394985 solMass>,\n",
       " <Quantity 569.77 kpc>,\n",
       " <Quantity 1858341.193 lyr>,\n",
       " <Quantity 70.107 km / s>)"
      ]
     },
     "execution_count": 1,
     "metadata": {},
     "output_type": "execute_result"
    }
   ],
   "source": [
    "from Read import Read # from the Read module, I imported the Read function.\n",
    "# Lines 3-5: importing the numpy, astropy and math module.\n",
    "import numpy as np \n",
    "from astropy import units as u\n",
    "import math\n",
    "\n",
    "def ParticleInfo(filename,particle,particle_num): # defining the ParticleInfo function with various parameters.\n",
    "    # particle = particle type (disk, halo etc.) and particle_num = particle index.\n",
    "    \n",
    "    time, particles,data = Read(filename) # calling the Read function.\n",
    "    \n",
    "    #MASS:\n",
    "    mass = float(data['m'][1])*u.M_sun # from data (in Read function), all the values under the column 'm' are stored in the variable mass.\n",
    "    \n",
    "    #DISTANCE:\n",
    "    x = float(data['x'][1]) # from data (in Read function), all the values under the column 'm' are stored in the variable mass.\n",
    "    y = float(data['y'][1]) # Similarly, all the values under the column 'y' are stored in the variable y.\n",
    "    z = float(data['z'][1]) # And all the values under the column 'z' are stored in the variable z.\n",
    "    dist = np.around(math.sqrt(x*x+y*y+z*z),3)*u.kpc # Calculating the magnitude of distance in kpc and rounding it off to 3 decimal places.\n",
    "    dist_convert = np.around(dist.to(u.lyr),3) # Converting the kpc units to lyr using astropy units and rounding off to 3 decimal places.\n",
    "    \n",
    "    #VELOCITY:\n",
    "    vx = float(data['vx'][1]) # Going along the same lines, all the values under the column 'vx' are stored in the variable vx.\n",
    "    vy = float(data['vy'][1]) # All the values under the column 'vy' are stored in the variable vy.\n",
    "    vz = float(data['vz'][1]) # All the values under the column 'vz' are stored in the variable vz.\n",
    "    v = np.around(math.sqrt(vx*vx+vy*vy+vz*vz),3)*u.km/u.second # Calculating the magnitude of velocity in km/s and rounding it off to 3 decimal places.\n",
    "    \n",
    "    return mass, dist, dist_convert, v # I want the function to return the mass distance and velocity, when executed.\n",
    "\n",
    "ParticleInfo(\"MW_000.txt\",'Disk',99) # Calling the function to read \"MW_000.txt\" and extract information about the 100th disk particle.\n",
    "# Here particle = disk and particle_num = 100 (extracts data about the 100th particle).\n",
    "\n",
    "#Answers to question 5:\n",
    "# 3D distance: 569.770 kpc.\n",
    "# 3D velocity = 70.107 km/s.\n",
    "# mass = 0.00394985 solar masses.\n",
    "# distance in lightyears = 1858341.193 lyr.\n",
    "    "
   ]
  },
  {
   "cell_type": "code",
   "execution_count": null,
   "metadata": {},
   "outputs": [],
   "source": []
  },
  {
   "cell_type": "code",
   "execution_count": null,
   "metadata": {},
   "outputs": [],
   "source": []
  }
 ],
 "metadata": {
  "kernelspec": {
   "display_name": "Python 3",
   "language": "python",
   "name": "python3"
  },
  "language_info": {
   "codemirror_mode": {
    "name": "ipython",
    "version": 3
   },
   "file_extension": ".py",
   "mimetype": "text/x-python",
   "name": "python",
   "nbconvert_exporter": "python",
   "pygments_lexer": "ipython3",
   "version": "3.7.3"
  }
 },
 "nbformat": 4,
 "nbformat_minor": 2
}

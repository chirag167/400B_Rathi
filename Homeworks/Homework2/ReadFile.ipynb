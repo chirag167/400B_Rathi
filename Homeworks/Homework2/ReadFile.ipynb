{
 "cells": [
  {
   "cell_type": "code",
   "execution_count": 2,
   "metadata": {},
   "outputs": [],
   "source": [
    "# importing the numpy and astropy modules in lines 2-4.\n",
    "import numpy as np\n",
    "\n",
    "from astropy import units as u\n",
    "\n",
    "\n",
    "def Read(filename): # defining a function that will read filename.\n",
    "    file = open(filename,'r') # opens filename and reads it ('r')\n",
    "    line1 = file.readline() # reads line 1.\n",
    "    label, value = line1.split() # splits line 1 at whitespaces. \n",
    "    time = float(value)*u.Myr # stores value in a variable time.\n",
    "    \n",
    "    line2 = file.readline() # similarly, reads line 2\n",
    "    label, value = line2.split() # splits line 2 at whitespaces.\n",
    "    particles = float(value) # stores value in a variable particles.\n",
    "    \n",
    "    file.close() # close the file.\n",
    "    data = np.genfromtxt(filename,dtype=None,names=True,skip_header = 3) # save the remainder of the file as arrays (under the variable, data).\n",
    "    \n",
    "    return time,particles,data # return the variables, time, particles and data.\n",
    "    \n",
    "\n",
    "\n",
    "time,particles,data = Read(\"MW_000.txt\") # calling the Read function to read \"MW_000.txt\" and store the ouput in time,particles and data.\n",
    "\n"
   ]
  },
  {
   "cell_type": "code",
   "execution_count": null,
   "metadata": {},
   "outputs": [],
   "source": []
  }
 ],
 "metadata": {
  "kernelspec": {
   "display_name": "Python 3",
   "language": "python",
   "name": "python3"
  },
  "language_info": {
   "codemirror_mode": {
    "name": "ipython",
    "version": 3
   },
   "file_extension": ".py",
   "mimetype": "text/x-python",
   "name": "python",
   "nbconvert_exporter": "python",
   "pygments_lexer": "ipython3",
   "version": "3.7.3"
  }
 },
 "nbformat": 4,
 "nbformat_minor": 2
}

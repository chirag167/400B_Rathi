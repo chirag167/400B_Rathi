{
 "cells": [
  {
   "cell_type": "code",
   "execution_count": 4,
   "metadata": {},
   "outputs": [
    {
     "ename": "ModuleNotFoundError",
     "evalue": "No module named 'ReadFile'",
     "output_type": "error",
     "traceback": [
      "\u001b[0;31m---------------------------------------------------------------------------\u001b[0m",
      "\u001b[0;31mModuleNotFoundError\u001b[0m                       Traceback (most recent call last)",
      "\u001b[0;32m<ipython-input-4-8b5b4e3af4e9>\u001b[0m in \u001b[0;36m<module>\u001b[0;34m\u001b[0m\n\u001b[1;32m      2\u001b[0m \u001b[0;31m# Galaxy components: Halo, disk, bulge etc.\u001b[0m\u001b[0;34m\u001b[0m\u001b[0;34m\u001b[0m\u001b[0;34m\u001b[0m\u001b[0m\n\u001b[1;32m      3\u001b[0m \u001b[0;34m\u001b[0m\u001b[0m\n\u001b[0;32m----> 4\u001b[0;31m \u001b[0;32mfrom\u001b[0m \u001b[0mReadFile\u001b[0m \u001b[0;32mimport\u001b[0m \u001b[0mRead\u001b[0m\u001b[0;34m\u001b[0m\u001b[0;34m\u001b[0m\u001b[0m\n\u001b[0m\u001b[1;32m      5\u001b[0m \u001b[0;32mimport\u001b[0m \u001b[0mnumpy\u001b[0m \u001b[0;32mas\u001b[0m \u001b[0mnp\u001b[0m\u001b[0;34m\u001b[0m\u001b[0;34m\u001b[0m\u001b[0m\n\u001b[1;32m      6\u001b[0m \u001b[0;32mfrom\u001b[0m \u001b[0mastropy\u001b[0m \u001b[0;32mimport\u001b[0m \u001b[0munits\u001b[0m \u001b[0;32mas\u001b[0m \u001b[0mu\u001b[0m\u001b[0;34m\u001b[0m\u001b[0;34m\u001b[0m\u001b[0m\n",
      "\u001b[0;31mModuleNotFoundError\u001b[0m: No module named 'ReadFile'"
     ]
    }
   ],
   "source": [
    "# Creating a function to calculate the total mass of a galaxy component.\n",
    "# Galaxy components: Halo, disk, bulge etc.\n",
    "\n",
    "from ReadFile import Read\n",
    "import numpy as np\n",
    "from astropy import units as u\n",
    "\n",
    "def ComponentMass(filename,particle_type):\n",
    "    # Inputs:\n",
    "    #      filename = name of the file to read.\n",
    "    #       particle_type = galaxy component: 1 = Halo, 2 = Disk, 3 = Bulge.\n",
    "    # Returns:\n",
    "    #       total mass of the galaxy component.\n",
    "    \n",
    "    time, particles, data = Read(filename)\n",
    "    index = np.where(data['type']== particle_type)\n",
    "    mass = data['m'][index]\n",
    "    comp_mass = sum(mass)/1e2*u.Msun\n",
    "    \n",
    "    return np.around(comp_mass,3)\n",
    "    "
   ]
  },
  {
   "cell_type": "code",
   "execution_count": 13,
   "metadata": {},
   "outputs": [
    {
     "data": {
      "text/latex": [
       "$0.075 \\; \\mathrm{M_{\\odot}}$"
      ],
      "text/plain": [
       "<Quantity 0.075 solMass>"
      ]
     },
     "execution_count": 13,
     "metadata": {},
     "output_type": "execute_result"
    }
   ],
   "source": [
    "ComponentMass(\"MW_000.txt\",2)"
   ]
  },
  {
   "cell_type": "code",
   "execution_count": null,
   "metadata": {},
   "outputs": [],
   "source": []
  }
 ],
 "metadata": {
  "kernelspec": {
   "display_name": "Python 3",
   "language": "python",
   "name": "python3"
  },
  "language_info": {
   "codemirror_mode": {
    "name": "ipython",
    "version": 3
   },
   "file_extension": ".py",
   "mimetype": "text/x-python",
   "name": "python",
   "nbconvert_exporter": "python",
   "pygments_lexer": "ipython3",
   "version": "3.7.3"
  }
 },
 "nbformat": 4,
 "nbformat_minor": 2
}
